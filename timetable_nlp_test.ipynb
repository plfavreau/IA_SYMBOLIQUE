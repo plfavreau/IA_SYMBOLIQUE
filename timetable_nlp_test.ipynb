{
 "cells": [
  {
   "cell_type": "markdown",
   "id": "fb58a9af",
   "metadata": {
    "pycharm": {
     "name": "#%% md\n"
    },
    "tags": []
   },
   "source": [
    "# OptaPy - OptaPlanner in Python\n",
    "\n",
    "\n",
    "OptaPy is an **AI constraint solver for Python** to optimize the Vehicle Routing Problem, Employee Rostering, Maintenance Scheduling, Task Assignment, School Timetabling, Cloud Optimization, Conference Scheduling, Job Shop Scheduling, Bin Packing and many more planning problems.\n",
    "\n",
    "OptaPy wraps the [OptaPlanner](https://www.optaplanner.org/) engine internally, but using OptaPy in Python is significantly slower than using OptaPlanner in Java or Kotlin.\n",
    "\n",
    "\n",
    "WARNING:  OptaPy is an experimental technology. It is at least 20 times slower than using OptaPlanner in Java or Kotlin.\n",
    "\n",
    "## What is OptaPlanner?\n",
    "\n",
    "OptaPlanner is an AI constraint solver. It optimizes planning and scheduling problems, such as the Vehicle Routing Problem, Employee Rostering, Maintenance Scheduling, Task Assignment, School Timetabling, Cloud Optimization, Conference Scheduling, Job Shop Scheduling, Bin Packing and many more. Every organization faces such challenges: assign a limited set of constrained resources (employees, assets, time and/or money) to provide products or services. OptaPlanner delivers more efficient plans, which reduce costs and improve service quality.\n",
    "\n",
    "Constraints apply on plain domain objects and can call existing code. There’s no need to input constraints as mathematical equations. Under the hood, OptaPlanner combines sophisticated Artificial Intelligence optimization algorithms (such as Tabu Search, Simulated Annealing, Late Acceptance and other metaheuristics) with very efficient score calculation and other state-of-the-art constraint solving techniques.\n",
    "\n",
    "## An Example: School Timetabling\n",
    "\n",
    "### Model the domain objects and constraints\n",
    "\n",
    "The goal is to assign each lesson to a time slot and a room. The model is divided into four kind of objects\n",
    "\n",
    "#### Problem Facts\n",
    "\n",
    "Problem facts are facts about the problem. As such, they do not change during solving (and thus cannot have any planning variables). An example problem fact is shown below:"
   ]
  },
  {
   "cell_type": "code",
   "execution_count": null,
   "id": "5afc0705",
   "metadata": {
    "pycharm": {
     "name": "#%%\n"
    }
   },
   "outputs": [],
   "source": [
    "from optapy import problem_fact, planning_id\n",
    "\n",
    "@problem_fact\n",
    "class Room:\n",
    "    def __init__(self, id, name):\n",
    "        self.id = id\n",
    "        self.name = name\n",
    "\n",
    "    @planning_id\n",
    "    def get_id(self):\n",
    "        return self.id\n",
    "\n",
    "    def __str__(self):\n",
    "        return f\"Room(id={self.id}, name={self.name})\""
   ]
  },
  {
   "cell_type": "markdown",
   "id": "c5d97f25",
   "metadata": {
    "pycharm": {
     "name": "#%% md\n"
    }
   },
   "source": [
    "The `@problem_fact` decorator creates a Java class for Room, which allows it to be used in constraints. The `@planning_id` decorator tells OptaPlanner that it can use that method for identifying identifical pairs. It is only required if you use `fromUniquePair` on the class in a constraint.\n",
    "\n",
    "The code for the Timeslot probelm fact is shown below:"
   ]
  },
  {
   "cell_type": "markdown",
   "id": "56eeae5d",
   "metadata": {
    "pycharm": {
     "name": "#%% md\n"
    }
   },
   "source": [
    "#### Planning Entities\n",
    "\n",
    "During a lesson, represented by the Lesson class, a teacher teaches a subject to a group of students, for example, Math by A.Turing for 9th grade or Chemistry by M.Curie for 10th grade. If a subject is taught multiple times per week by the same teacher to the same student group, there are multiple Lesson instances that are only distinguishable by id. For example, the 9th grade has six math lessons a week.\n",
    "\n",
    "During solving, OptaPlanner changes the timeslot and room fields of the Lesson class, to assign each lesson to a time slot and a room. Because OptaPlanner changes these fields, Lesson is a planning entity. Here is how we would write it in Python:"
   ]
  },
  {
   "cell_type": "code",
   "execution_count": null,
   "id": "0922583a",
   "metadata": {
    "pycharm": {
     "name": "#%%\n"
    }
   },
   "outputs": [],
   "source": [
    "from optapy import planning_entity, planning_variable\n",
    "\n",
    "@planning_entity\n",
    "class Lesson:\n",
    "    def __init__(self, id, subject, teacher, student_group, timeslot=None, room=None):\n",
    "        self.id = id\n",
    "        self.subject = subject\n",
    "        self.teacher = teacher\n",
    "        self.student_group = student_group\n",
    "        self.timeslot = timeslot\n",
    "        self.room = room\n",
    "\n",
    "    @planning_id\n",
    "    def get_id(self):\n",
    "        return self.id\n",
    "\n",
    "    @planning_variable(Timeslot, [\"timeslotRange\"])\n",
    "    def get_timeslot(self):\n",
    "        return self.timeslot\n",
    "\n",
    "    def set_timeslot(self, new_timeslot):\n",
    "        self.timeslot = new_timeslot\n",
    "\n",
    "    @planning_variable(Room, [\"roomRange\"])\n",
    "    def get_room(self):\n",
    "        return self.room\n",
    "\n",
    "    def set_room(self, new_room):\n",
    "        self.room = new_room\n",
    "\n",
    "    def __str__(self):\n",
    "        return (\n",
    "            f\"Lesson(\"\n",
    "            f\"id={self.id}, \"\n",
    "            f\"timeslot={self.timeslot}, \"\n",
    "            f\"room={self.room}, \"\n",
    "            f\"teacher={self.teacher}, \"\n",
    "            f\"subject={self.subject}, \"\n",
    "            f\"student_group={self.student_group}\"\n",
    "            f\")\"\n",
    "        )"
   ]
  },
  {
   "cell_type": "code",
   "execution_count": null,
   "id": "98b7d840",
   "metadata": {
    "pycharm": {
     "name": "#%%\n"
    }
   },
   "outputs": [],
   "source": [
    "from optapy import constraint_provider\n",
    "from optapy.types import Joiners, HardSoftScore\n",
    "from datetime import datetime, date, timedelta\n",
    "\n",
    "# Trick since timedelta only works with datetime instances\n",
    "today = date.today()\n",
    "\n",
    "\n",
    "def within_30_minutes(lesson1, lesson2):\n",
    "    between = datetime.combine(today, lesson1.timeslot.end_time) - datetime.combine(today, lesson2.timeslot.start_time)\n",
    "    return timedelta(minutes=0) <= between <= timedelta(minutes=30)\n",
    "\n",
    "\n",
    "@constraint_provider\n",
    "def define_constraints(constraint_factory):\n",
    "    return [\n",
    "        # Hard constraints\n",
    "        room_conflict(constraint_factory),\n",
    "        teacher_conflict(constraint_factory),\n",
    "        student_group_conflict(constraint_factory),\n",
    "        # Soft constraints\n",
    "        teacher_room_stability(constraint_factory),\n",
    "        teacher_time_efficiency(constraint_factory),\n",
    "        student_group_subject_variety(constraint_factory)\n",
    "    ]\n",
    "\n",
    "\n",
    "def room_conflict(constraint_factory):\n",
    "    # A room can accommodate at most one lesson at the same time.\n",
    "    return constraint_factory \\\n",
    "        .for_each(Lesson) \\\n",
    "        .join(Lesson,\n",
    "              # ... in the same timeslot ...\n",
    "              Joiners.equal(lambda lesson: lesson.timeslot),\n",
    "              # ... in the same room ...\n",
    "              Joiners.equal(lambda lesson: lesson.room),\n",
    "              # form unique pairs\n",
    "              Joiners.less_than(lambda lesson: lesson.id)\n",
    "              ) \\\n",
    "        .penalize(\"Room conflict\", HardSoftScore.ONE_HARD)\n",
    "\n",
    "\n",
    "def teacher_conflict(constraint_factory):\n",
    "    # A teacher can teach at most one lesson at the same time.\n",
    "    return constraint_factory \\\n",
    "        .for_each(Lesson) \\\n",
    "        .join(Lesson,\n",
    "              Joiners.equal(lambda lesson: lesson.timeslot),\n",
    "              Joiners.equal(lambda lesson: lesson.teacher),\n",
    "              Joiners.less_than(lambda lesson: lesson.id)\n",
    "              ) \\\n",
    "        .penalize(\"Teacher conflict\", HardSoftScore.ONE_HARD)\n",
    "\n",
    "\n",
    "def student_group_conflict(constraint_factory):\n",
    "    # A student can attend at most one lesson at the same time.\n",
    "    return constraint_factory \\\n",
    "        .for_each(Lesson) \\\n",
    "        .join(Lesson,\n",
    "              Joiners.equal(lambda lesson: lesson.timeslot),\n",
    "              Joiners.equal(lambda lesson: lesson.student_group),\n",
    "              Joiners.less_than(lambda lesson: lesson.id)\n",
    "              ) \\\n",
    "        .penalize(\"Student group conflict\", HardSoftScore.ONE_HARD)\n",
    "\n",
    "\n",
    "def teacher_room_stability(constraint_factory):\n",
    "    # A teacher prefers to teach in a single room.\n",
    "    return constraint_factory \\\n",
    "        .for_each(Lesson) \\\n",
    "        .join(Lesson,\n",
    "              Joiners.equal(lambda lesson: lesson.teacher),\n",
    "              Joiners.less_than(lambda lesson: lesson.id)\n",
    "              ) \\\n",
    "        .filter(lambda lesson1, lesson2: lesson1.room != lesson2.room) \\\n",
    "        .penalize(\"Teacher room stability\", HardSoftScore.ONE_SOFT)\n",
    "\n",
    "\n",
    "def teacher_time_efficiency(constraint_factory):\n",
    "    # A teacher prefers to teach sequential lessons and dislikes gaps between lessons.\n",
    "    return constraint_factory \\\n",
    "        .for_each(Lesson) \\\n",
    "        .join(Lesson,\n",
    "              Joiners.equal(lambda lesson: lesson.teacher),\n",
    "              Joiners.equal(lambda lesson: lesson.timeslot.day_of_week)\n",
    "              ) \\\n",
    "        .filter(within_30_minutes) \\\n",
    "        .reward(\"Teacher time efficiency\", HardSoftScore.ONE_SOFT)\n",
    "\n",
    "\n",
    "def student_group_subject_variety(constraint_factory):\n",
    "    # A student group dislikes sequential lessons on the same subject.\n",
    "    return constraint_factory \\\n",
    "        .for_each(Lesson) \\\n",
    "        .join(Lesson,\n",
    "              Joiners.equal(lambda lesson: lesson.subject),\n",
    "              Joiners.equal(lambda lesson: lesson.student_group),\n",
    "              Joiners.equal(lambda lesson: lesson.timeslot.day_of_week)\n",
    "              ) \\\n",
    "        .filter(within_30_minutes) \\\n",
    "        .penalize(\"Student group subject variety\", HardSoftScore.ONE_SOFT)\n"
   ]
  },
  {
   "cell_type": "markdown",
   "id": "429efff0",
   "metadata": {
    "pycharm": {
     "name": "#%% md\n"
    }
   },
   "source": [
    "The `@constraint_provider` decorator creates a Java `ConstraintProvider` class, allowing OptaPlanner to use it. You can call any python method when evaluating your constraints. \n",
    "\n",
    "#### Planning Solution\n",
    "\n",
    "Finally, there is the planning solution. The planning solution stores references to all the problem facts and planning entities that define the problem. Additionally, it also contain the score of the solution. The planning solution class represent both the problem and the solution; as such, a problem can be viewed as an unintialized planning solution. Here how we define it in Python:"
   ]
  },
  {
   "cell_type": "markdown",
   "id": "81082b3c",
   "metadata": {
    "pycharm": {
     "name": "#%% md\n"
    }
   },
   "source": [
    "The `@planning_solution` decorator creates a Java class for TimeTable, allowing it to be passed to OptaPlanner.\n",
    "The `@problem_fact_collection_property` decorator tells OptaPlanner that method returns problem facts (it takes in one required argument: the Python class of the problem fact). Similarly, the `@planning_entity_collection_property` decorator tells OptaPlanner that method returns planning entities (it takes in one required argument: the Python class of the planning entity). The `@value_range_provider` decorator tells OptaPlanner the method provide values for variables. It `range_id` parameter is used determine what planning variable(s) accept values from it. For example, `timeslot` take values from the `timeslotRange`, so it accept values from `getTimeslotList`. Finally, the `@planning_score` decorator tells OptaPlanner the method returns the planning score (how good the solution is). Like with `@planning_variable`, It must be named `get%Score()` and has a corresponding setter `set%Score` (where `%Score` is the name of the score). Its parameter tells OptaPlanner what kind of score it takes.\n",
    "\n",
    "### Solving\n",
    "\n",
    "Now that we defined our model and constraints, let create an instance of the problem:"
   ]
  },
  {
   "cell_type": "code",
   "execution_count": null,
   "id": "1032c4c0",
   "metadata": {
    "pycharm": {
     "name": "#%%\n"
    }
   },
   "outputs": [],
   "source": [
    "from datetime import time\n",
    "\n",
    "def generate_problem():\n",
    "    timeslot_list = [\n",
    "        Timeslot(1, \"MONDAY\", time(hour=8, minute=30), time(hour=9, minute=30)),\n",
    "        Timeslot(2, \"MONDAY\", time(hour=9, minute=30), time(hour=10, minute=30)),\n",
    "        Timeslot(3, \"MONDAY\", time(hour=10, minute=30), time(hour=11, minute=30)),\n",
    "        Timeslot(4, \"MONDAY\", time(hour=13, minute=30), time(hour=14, minute=30)),\n",
    "        Timeslot(5, \"MONDAY\", time(hour=14, minute=30), time(hour=15, minute=30)),\n",
    "        Timeslot(6, \"TUESDAY\", time(hour=8, minute=30), time(hour=9, minute=30)),\n",
    "        Timeslot(7, \"TUESDAY\", time(hour=9, minute=30), time(hour=10, minute=30)),\n",
    "        Timeslot(8, \"TUESDAY\", time(hour=10, minute=30), time(hour=11, minute=30)),\n",
    "        Timeslot(9, \"TUESDAY\", time(hour=13, minute=30), time(hour=14, minute=30)),\n",
    "        Timeslot(10, \"TUESDAY\", time(hour=14, minute=30), time(hour=15, minute=30)),\n",
    "        Timeslot(11, \"WEDNESDAY\", time(hour=8, minute=30), time(hour=9, minute=30)),\n",
    "        Timeslot(12, \"WEDNESDAY\", time(hour=9, minute=30), time(hour=10, minute=30)),\n",
    "        Timeslot(13, \"WEDNESDAY\", time(hour=10, minute=30), time(hour=11, minute=30)),\n",
    "        Timeslot(14, \"WEDNESDAY\", time(hour=13, minute=30), time(hour=14, minute=30)),\n",
    "        Timeslot(15, \"WEDNESDAY\", time(hour=14, minute=30), time(hour=15, minute=30)),\n",
    "        Timeslot(16, \"THURSDAY\", time(hour=8, minute=30), time(hour=9, minute=30)),\n",
    "        Timeslot(17, \"THURSDAY\", time(hour=9, minute=30), time(hour=10, minute=30)),\n",
    "        Timeslot(18, \"THURSDAY\", time(hour=10, minute=30), time(hour=11, minute=30)),\n",
    "        Timeslot(19, \"THURSDAY\", time(hour=13, minute=30), time(hour=14, minute=30)),\n",
    "        Timeslot(20, \"THURSDAY\", time(hour=14, minute=30), time(hour=15, minute=30)),\n",
    "        Timeslot(21, \"FRIDAY\", time(hour=8, minute=30), time(hour=9, minute=30)),\n",
    "        Timeslot(22, \"FRIDAY\", time(hour=9, minute=30), time(hour=10, minute=30)),\n",
    "        Timeslot(23, \"FRIDAY\", time(hour=10, minute=30), time(hour=11, minute=30)),\n",
    "        Timeslot(24, \"FRIDAY\", time(hour=13, minute=30), time(hour=14, minute=30)),\n",
    "        Timeslot(25, \"FRIDAY\", time(hour=14, minute=30), time(hour=15, minute=30))\n",
    "    ]\n",
    "    room_list = [\n",
    "        Room(1, \"Room A\"),\n",
    "        Room(2, \"Room B\"),\n",
    "        Room(3, \"Room C\")\n",
    "    ]\n",
    "    lesson_list = [\n",
    "        Lesson(1, \"Math\", \"A. Turing\", \"9th grade\"),\n",
    "        Lesson(2, \"Math\", \"A. Turing\", \"9th grade\"),\n",
    "        Lesson(3, \"Physics\", \"M. Curie\", \"9th grade\"),\n",
    "        Lesson(4, \"Chemistry\", \"M. Curie\", \"9th grade\"),\n",
    "        Lesson(5, \"Biology\", \"C. Darwin\", \"9th grade\"),\n",
    "        Lesson(6, \"History\", \"I. Jones\", \"9th grade\"),\n",
    "        Lesson(7, \"English\", \"I. Jones\", \"9th grade\"),\n",
    "        Lesson(8, \"English\", \"I. Jones\", \"9th grade\"),\n",
    "        Lesson(9, \"Spanish\", \"P. Cruz\", \"9th grade\"),\n",
    "        Lesson(10, \"Spanish\", \"P. Cruz\", \"9th grade\"),\n",
    "        Lesson(11, \"Math\", \"A. Turing\", \"10th grade\"),\n",
    "        Lesson(12, \"Math\", \"A. Turing\", \"10th grade\"),\n",
    "        Lesson(13, \"Math\", \"A. Turing\", \"10th grade\"),\n",
    "        Lesson(14, \"Physics\", \"M. Curie\", \"10th grade\"),\n",
    "        Lesson(15, \"Chemistry\", \"M. Curie\", \"10th grade\"),\n",
    "        Lesson(16, \"French\", \"M. Curie\", \"10th grade\"),\n",
    "        Lesson(17, \"Geography\", \"C. Darwin\", \"10th grade\"),\n",
    "        Lesson(18, \"History\", \"I. Jones\", \"10th grade\"),\n",
    "        Lesson(19, \"English\", \"P. Cruz\", \"10th grade\"),\n",
    "        Lesson(20, \"Spanish\", \"P. Cruz\", \"10th grade\"),\n",
    "        Lesson(21, \"NLP\", \"Gustave Cortal\", \"blc\"),\n",
    "        Lesson(22, \"NLP\", \"Gustave Cortal\", \"blc\"),\n",
    "        Lesson(23, \"NLP\", \"Gustave Cortal\", \"blc\"),\n",
    "        Lesson(24, \"NLP\", \"Gustave Cortal\", \"blc\"),\n",
    "        Lesson(25, \"NLP\", \"Gustave Cortal\", \"blc\"),\n",
    "        Lesson(26, \"NLP\", \"Gustave Cortal\", \"blc\"),\n",
    "        Lesson(27, \"NLP\", \"Gustave Cortal\", \"blc\"),\n",
    "        Lesson(28, \"NLP\", \"Gustave Cortal\", \"blc\"),\n",
    "    ]\n",
    "    lesson = lesson_list[0]\n",
    "    lesson.set_timeslot(timeslot_list[0])\n",
    "    lesson.set_room(room_list[0])\n",
    "\n",
    "    return TimeTable(timeslot_list, room_list, lesson_list)"
   ]
  },
  {
   "cell_type": "markdown",
   "id": "8ef747f6",
   "metadata": {
    "pycharm": {
     "name": "#%% md\n"
    }
   },
   "source": [
    "and solve it:"
   ]
  },
  {
   "cell_type": "markdown",
   "id": "dfeb1137",
   "metadata": {
    "pycharm": {
     "name": "#%% md\n"
    }
   },
   "source": [
    "The table will automatically update whenever a new best solution is found."
   ]
  }
 ],
 "metadata": {
  "kernelspec": {
   "display_name": "Python 3 (ipykernel)",
   "language": "python",
   "name": "python3"
  },
  "language_info": {
   "codemirror_mode": {
    "name": "ipython",
    "version": 3
   },
   "file_extension": ".py",
   "mimetype": "text/x-python",
   "name": "python",
   "nbconvert_exporter": "python",
   "pygments_lexer": "ipython3",
   "version": "3.9.13"
  }
 },
 "nbformat": 4,
 "nbformat_minor": 5
}
